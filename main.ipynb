{
 "cells": [
  {
   "cell_type": "code",
   "execution_count": 1,
   "outputs": [],
   "source": [
    "# imports\n",
    "import pandas as pd\n",
    "import time\n",
    "from dotenv import load_dotenv\n",
    "load_dotenv('.env_aneslit')\n",
    "from openai import OpenAI\n",
    "import os \n",
    "from pathlib import Path\n",
    "client = OpenAI()\n",
    "\n"
   ],
   "metadata": {
    "collapsed": false,
    "ExecuteTime": {
     "end_time": "2024-01-24T21:44:40.101405Z",
     "start_time": "2024-01-24T21:44:39.598943Z"
    }
   },
   "id": "f9d1651426f9ed62"
  },
  {
   "cell_type": "markdown",
   "source": [
    "See additional documentation here: https://drive.google.com/drive/folders/1Rk1kmDjIKS9mDUZFpx33K_4gTkVBNXCF"
   ],
   "metadata": {
    "collapsed": false
   },
   "id": "b61a9e5072af3127"
  },
  {
   "cell_type": "code",
   "execution_count": 2,
   "outputs": [],
   "source": [
    "# provide general instructions to the assistant/thread as to it's role/personality\n",
    "instructions = '''\n",
    "You will be given a set of instructions for patients scheduled to undergo surgery in the San Francisco Bay Area. The average American reads at a 6th grade level. \n",
    "With this in mind, please modify the instructions you are given document to improve the readability of while maintaining accuracy and completeness.\n",
    "'''\n",
    "\n",
    "# this will be attached to the top of every prompt\n",
    "header_instructions = '''\n",
    "The average American reads at a 6th grade level. With this in mind, please modify the following document to improve the readability of while maintaining accuracy and completeness.\n",
    "'''\n",
    "\n"
   ],
   "metadata": {
    "collapsed": false,
    "ExecuteTime": {
     "end_time": "2024-01-24T21:44:40.102205Z",
     "start_time": "2024-01-24T21:44:40.084824Z"
    }
   },
   "id": "3760ad8ea84440fa"
  },
  {
   "cell_type": "code",
   "execution_count": 3,
   "outputs": [
    {
     "name": "stdout",
     "output_type": "stream",
     "text": [
      "extracted AVSs: 5\n"
     ]
    }
   ],
   "source": [
    "# get AVSs from file system\n",
    "def get_avs():\n",
    "  unmodified_avs = []\n",
    "  # Create a List of Documents from all of our files in the ./docs folder\n",
    "  for file in os.listdir(\"avs_docs/unmodified/plain_text\"):\n",
    "    if file.endswith(\".pdf\"):\n",
    "        doc_path = \"avs_docs/unmodified/plain_text/\" + file\n",
    "    elif file.endswith('.docx') or file.endswith('.doc'):\n",
    "        doc_path = \"avs_docs/unmodified/plain_text/\" + file\n",
    "    elif file.endswith('.txt'):\n",
    "        doc_path = \"avs_docs/unmodified/plain_text/\" + file\n",
    "    elif file.endswith('.md'):\n",
    "        doc_path = \"avs_docs/unmodified/plain_text/\" + file\n",
    "    elif file.endswith('.html'):\n",
    "        doc_path = \"avs_docs/unmodified/plain_text/\" + file\n",
    "    avs_text = Path(doc_path).read_text()\n",
    "    unmodified_avs = unmodified_avs + [avs_text]\n",
    "  return unmodified_avs\n",
    "\n",
    "unmodified_avs = get_avs()\n",
    "print(\"extracted AVSs: \" + str(len(unmodified_avs)))\n"
   ],
   "metadata": {
    "collapsed": false,
    "ExecuteTime": {
     "end_time": "2024-01-24T21:44:40.103213Z",
     "start_time": "2024-01-24T21:44:40.087620Z"
    }
   },
   "id": "51efcf9a9a118f63"
  },
  {
   "cell_type": "code",
   "execution_count": 4,
   "outputs": [],
   "source": [
    "avs_dataframe = pd.DataFrame(columns=['avs_id', 'model', 'seed', 'timestamp', 'text'])\n"
   ],
   "metadata": {
    "collapsed": false,
    "ExecuteTime": {
     "end_time": "2024-01-24T21:44:40.103611Z",
     "start_time": "2024-01-24T21:44:40.095289Z"
    }
   },
   "id": "b090aef427e48779"
  },
  {
   "cell_type": "code",
   "execution_count": 5,
   "outputs": [],
   "source": [
    "# unmodified rows \n",
    "df_unmod = pd.DataFrame(columns=['avs_id', 'model', 'text'])\n",
    "df_unmod['seed'] = [0,0,0,0,0]\n",
    "df_unmod['timestamp'] = [\"Prior\",\"Prior\",\"Prior\",\"Prior\",\"Prior\"]\n",
    "df_unmod['avs_id'] = [0,1,2,3,4]\n",
    "df_unmod['text'] = unmodified_avs\n",
    "df_unmod['model'] = ['unmodified','unmodified','unmodified','unmodified','unmodified']"
   ],
   "metadata": {
    "collapsed": false,
    "ExecuteTime": {
     "end_time": "2024-01-24T21:44:40.106190Z",
     "start_time": "2024-01-24T21:44:40.101180Z"
    }
   },
   "id": "9b73fafe2f557b7d"
  },
  {
   "cell_type": "code",
   "execution_count": 6,
   "outputs": [
    {
     "data": {
      "text/plain": "  avs_id       model seed timestamp  \\\n0      0  unmodified    0     Prior   \n1      1  unmodified    0     Prior   \n2      2  unmodified    0     Prior   \n3      3  unmodified    0     Prior   \n4      4  unmodified    0     Prior   \n\n                                                text  \n0  \\nDepartment: ANESTHESIA PREOPERATIVE PROGRAM\\...  \n1  Department: ANESTHESIA PREOPERATIVE PROGRAM\\nD...  \n2  \\nDepartment: ANESTHESIA PREOPERATIVE PROGRAM\\...  \n3  Department: ANESTHESIA PREOPERATIVE PROGRAM\\nD...  \n4  Department: ANESTHESIA PREOPERATIVE PROGRAM\\nD...  ",
      "text/html": "<div>\n<style scoped>\n    .dataframe tbody tr th:only-of-type {\n        vertical-align: middle;\n    }\n\n    .dataframe tbody tr th {\n        vertical-align: top;\n    }\n\n    .dataframe thead th {\n        text-align: right;\n    }\n</style>\n<table border=\"1\" class=\"dataframe\">\n  <thead>\n    <tr style=\"text-align: right;\">\n      <th></th>\n      <th>avs_id</th>\n      <th>model</th>\n      <th>seed</th>\n      <th>timestamp</th>\n      <th>text</th>\n    </tr>\n  </thead>\n  <tbody>\n    <tr>\n      <th>0</th>\n      <td>0</td>\n      <td>unmodified</td>\n      <td>0</td>\n      <td>Prior</td>\n      <td>\\nDepartment: ANESTHESIA PREOPERATIVE PROGRAM\\...</td>\n    </tr>\n    <tr>\n      <th>1</th>\n      <td>1</td>\n      <td>unmodified</td>\n      <td>0</td>\n      <td>Prior</td>\n      <td>Department: ANESTHESIA PREOPERATIVE PROGRAM\\nD...</td>\n    </tr>\n    <tr>\n      <th>2</th>\n      <td>2</td>\n      <td>unmodified</td>\n      <td>0</td>\n      <td>Prior</td>\n      <td>\\nDepartment: ANESTHESIA PREOPERATIVE PROGRAM\\...</td>\n    </tr>\n    <tr>\n      <th>3</th>\n      <td>3</td>\n      <td>unmodified</td>\n      <td>0</td>\n      <td>Prior</td>\n      <td>Department: ANESTHESIA PREOPERATIVE PROGRAM\\nD...</td>\n    </tr>\n    <tr>\n      <th>4</th>\n      <td>4</td>\n      <td>unmodified</td>\n      <td>0</td>\n      <td>Prior</td>\n      <td>Department: ANESTHESIA PREOPERATIVE PROGRAM\\nD...</td>\n    </tr>\n  </tbody>\n</table>\n</div>"
     },
     "execution_count": 6,
     "metadata": {},
     "output_type": "execute_result"
    }
   ],
   "source": [
    "avs_dataframe = pd.concat([avs_dataframe,df_unmod])\n",
    "avs_dataframe"
   ],
   "metadata": {
    "collapsed": false,
    "ExecuteTime": {
     "end_time": "2024-01-24T21:44:40.134556Z",
     "start_time": "2024-01-24T21:44:40.105497Z"
    }
   },
   "id": "2eb02bcb5c611b4d"
  },
  {
   "cell_type": "code",
   "execution_count": 8,
   "outputs": [],
   "source": [
    "# connect to database to store results\n",
    "import duckdb\n",
    "con = duckdb.connect('avs.db')\n",
    "results = pd.DataFrame()\n",
    "try:\n",
    "    results = con.execute(\"SELECT * FROM avs_experiments_database\").fetchdf()\n",
    "except:\n",
    "    pass\n",
    "if results.empty:\n",
    "    con.execute('CREATE TABLE avs_experiments_database AS SELECT * FROM avs_dataframe')\n",
    "con.close()\n",
    "\n"
   ],
   "metadata": {
    "collapsed": false,
    "ExecuteTime": {
     "end_time": "2024-01-24T21:44:46.966014Z",
     "start_time": "2024-01-24T21:44:46.932932Z"
    }
   },
   "id": "b21e70117c7c3a3f"
  },
  {
   "cell_type": "code",
   "execution_count": 12,
   "outputs": [],
   "source": [
    "# functions for conversion of raw AVS into more readable form \n",
    "import datetime\n",
    "\n",
    "def get_timestamp():\n",
    "    timestamp = '{:%Y-%m-%d-T-%H-%M-%S}'.format(datetime.datetime.now())\n",
    "    return timestamp\n",
    "\n",
    "def convert(avs_text, model, instructions, header_instructions,seed,temperature):\n",
    "  full_prompt = header_instructions + \"\\n \\n ---------------- \\n \\n \" + avs_text\n",
    "  completion = client.chat.completions.create(\n",
    "    temperature=temperature,\n",
    "    seed=seed,\n",
    "    model=model,\n",
    "    messages=[\n",
    "      {\"role\": \"system\", \"content\": instructions },\n",
    "      {\"role\": \"user\", \"content\": full_prompt}\n",
    "    ]\n",
    "  )\n",
    "  return completion.choices[0].message\n",
    "\n",
    "def convert_all_avs(unmodified_avs,model,instructions,header_instructions,temperature,num_replications):\n",
    "  avs_df = pd.DataFrame(columns=['seed','text'])\n",
    "  converted_avs = []\n",
    "  seed = 0\n",
    "  for replication_id in range(0,num_replications):\n",
    "    avs_num = 0 \n",
    "    for unmodified_avs_text in unmodified_avs:\n",
    "      seed = replication_id * 100 + avs_num + 800\n",
    "      print(\"---------------------------------------------------------\")\n",
    "      print(f\"converting document {avs_num} with seed {seed}... \\n\")\n",
    "      converted_avs_message = convert(unmodified_avs_text,model,instructions,header_instructions,seed,temperature)\n",
    "      converted_avs_text = converted_avs_message.content\n",
    "      print(f\"converted text: ...{converted_avs_text[:50]}... \\n\")\n",
    "      new_row = { 'seed': seed,\n",
    "                  'text': converted_avs_text,\n",
    "                  'timestamp': get_timestamp(),\n",
    "                  'model': model,\n",
    "                  'avs_id': avs_num }\n",
    "     \n",
    "      print(\"...saving to database\")\n",
    "      # save the results to a database\n",
    "      con = duckdb.connect('avs.db')\n",
    "      # add new row to the table\n",
    "      keys_t = \", \".join(new_row.keys())\n",
    "      vals_t = \", \".join([\"?\"]*len(new_row))\n",
    "      query = f\"INSERT INTO avs_experiments_database ({keys_t}) VALUES ({vals_t})\"\n",
    "      con.execute(query, list(new_row.values()))\n",
    "      # close the connection\n",
    "      con.close()\n",
    "      \n",
    "      # save to dataframe   \n",
    "      avs_df = pd.concat([avs_df,pd.DataFrame([new_row])])\n",
    "      avs_num = avs_num + 1\n",
    "              \n",
    "  return avs_df\n"
   ],
   "metadata": {
    "collapsed": false,
    "ExecuteTime": {
     "end_time": "2024-01-24T21:45:40.985073Z",
     "start_time": "2024-01-24T21:45:40.963705Z"
    }
   },
   "id": "444411db64fb8e36"
  },
  {
   "cell_type": "code",
   "execution_count": 10,
   "outputs": [],
   "source": [
    "# set temp (higher is more random)\n",
    "temperature = 0.2\n",
    "replications = 25"
   ],
   "metadata": {
    "collapsed": false,
    "ExecuteTime": {
     "end_time": "2024-01-24T21:44:56.331392Z",
     "start_time": "2024-01-24T21:44:56.292422Z"
    }
   },
   "id": "681426ae6d029f"
  },
  {
   "cell_type": "code",
   "execution_count": null,
   "outputs": [],
   "source": [
    "avs35 = convert_all_avs(unmodified_avs,\"gpt-3.5-turbo\", instructions, header_instructions, temperature, replications)"
   ],
   "metadata": {
    "collapsed": false
   },
   "id": "aad6fd26e380049f"
  },
  {
   "cell_type": "code",
   "execution_count": null,
   "outputs": [],
   "source": [
    "avs40 = convert_all_avs(unmodified_avs,\"gpt-4-1106-preview\",instructions, header_instructions, temperature, replications)"
   ],
   "metadata": {
    "collapsed": false
   },
   "id": "424977911daab791"
  },
  {
   "cell_type": "code",
   "execution_count": 31,
   "outputs": [
    {
     "name": "stdout",
     "output_type": "stream",
     "text": [
      "5\n",
      "125\n",
      "125\n"
     ]
    }
   ],
   "source": [
    "con = duckdb.connect('avs.db')\n",
    "# add new row to the table\n",
    "df = con.sql('SELECT * FROM avs_experiments_database').df() \n",
    "# close the connection\n",
    "con.close()\n",
    "print(df.query(\"model == 'unmodified'\").avs_id.count())\n",
    "print(df.query(\"model == 'gpt-3.5-turbo'\").avs_id.count())\n",
    "print(df.query(\"model == 'gpt-4-1106-preview'\").avs_id.count())"
   ],
   "metadata": {
    "collapsed": false,
    "ExecuteTime": {
     "end_time": "2024-01-24T22:10:54.422500Z",
     "start_time": "2024-01-24T22:10:54.404353Z"
    }
   },
   "id": "d0e0b2fe1d8b53e7"
  },
  {
   "cell_type": "code",
   "execution_count": 32,
   "outputs": [],
   "source": [
    "# text analysis\n",
    "\n",
    "# add new columns with correct data type\n",
    "df['flesch_kincaid_grade'] = 99.9\n",
    "df['flesch_reading_ease'] = 99.9\n",
    "df['smog_index'] = 99.9\n",
    "df['coleman_liau_index'] = 99.9\n",
    "df['automated_readability_index'] = 99.9\n",
    "df['dale_chall_readability_score'] = 99.9\n",
    "df['difficult_words'] = 99.9\n",
    "df['linsear_write_formula'] = 99.9\n",
    "df['gunning_fog'] = 99.9\n",
    "df['text_standard'] = \"will be filled in\"\n",
    "df['fernandez_huerta'] = 99.9\n",
    "df['szigriszt_pazos'] = 99.9\n",
    "df['gutierrez_polini'] = 99.9\n",
    "df['crawford'] = 99.9\n",
    "df['gulpease_index'] = 99.9\n",
    "df['osman'] = 99.9\n",
    "\n",
    "\n",
    "df['diff_flesch_kincaid_grade'] = 99.9\n",
    "df['diff_flesch_reading_ease'] = 99.9\n",
    "df['diff_smog_index'] = 99.9\n",
    "df['diff_coleman_liau_index'] = 99.9\n",
    "df['diff_automated_readability_index'] = 99.9\n",
    "df['diff_dale_chall_readability_score'] = 99.9\n",
    "df['diff_difficult_words'] = 99.9\n",
    "df['diff_linsear_write_formula'] = 99.9\n",
    "df['diff_gunning_fog'] = 99.9\n",
    "df['diff_text_standard'] = \"cannot compute\"\n",
    "df['diff_fernandez_huerta'] = 99.9\n",
    "df['diff_szigriszt_pazos'] = 99.9\n",
    "df['diff_gutierrez_polini'] = 99.9\n",
    "df['diff_crawford'] = 99.9\n",
    "df['diff_gulpease_index'] = 99.9\n",
    "df['diff_osman'] = 99.9\n"
   ],
   "metadata": {
    "collapsed": false,
    "ExecuteTime": {
     "end_time": "2024-01-24T22:10:55.900567Z",
     "start_time": "2024-01-24T22:10:55.889366Z"
    }
   },
   "id": "810b04d9c1129887"
  },
  {
   "cell_type": "code",
   "execution_count": 33,
   "outputs": [
    {
     "name": "stdout",
     "output_type": "stream",
     "text": [
      "index 0 with FKG of 10.8...index 1 with FKG of 10.2...index 2 with FKG of 10.5...index 3 with FKG of 9.9...index 4 with FKG of 10.7...index 5 with FKG of 9.8...index 6 with FKG of 9.9...index 7 with FKG of 10.9...index 8 with FKG of 9.7...index 9 with FKG of 9.7...index 10 with FKG of 9.8...index 11 with FKG of 9.9...index 12 with FKG of 10.1...index 13 with FKG of 9.7...index 14 with FKG of 9.7...index 15 with FKG of 9.8...index 16 with FKG of 9.9...index 17 with FKG of 10.9...index 18 with FKG of 9.7...index 19 with FKG of 9.5...index 20 with FKG of 9.8...index 21 with FKG of 9.6...index 22 with FKG of 10.7...index 23 with FKG of 9.7...index 24 with FKG of 9.7...index 25 with FKG of 9.8...index 26 with FKG of 10.1...index 27 with FKG of 10.9...index 28 with FKG of 9.7...index 29 with FKG of 9.5...index 30 with FKG of 9.8...index 31 with FKG of 9.9...index 32 with FKG of 10.4...index 33 with FKG of 9.7...index 34 with FKG of 9.7...index 35 with FKG of 9.8...index 36 with FKG of 9.9...index 37 with FKG of 10.9...index 38 with FKG of 9.7...index 39 with FKG of 9.7...index 40 with FKG of 9.8...index 41 with FKG of 9.9...index 42 with FKG of 10.9...index 43 with FKG of 9.7...index 44 with FKG of 9.7...index 45 with FKG of 9.8...index 46 with FKG of 9.9...index 47 with FKG of 10.9...index 48 with FKG of 9.7...index 49 with FKG of 9.7...index 50 with FKG of 9.8...index 51 with FKG of 9.9...index 52 with FKG of 10.9...index 53 with FKG of 9.7...index 54 with FKG of 9.7...index 55 with FKG of 9.8...index 56 with FKG of 9.9...index 57 with FKG of 10.9...index 58 with FKG of 9.7...index 59 with FKG of 9.7...index 60 with FKG of 9.8...index 61 with FKG of 9.9...index 62 with FKG of 10.9...index 63 with FKG of 9.7...index 64 with FKG of 9.5...index 65 with FKG of 9.8...index 66 with FKG of 10.2...index 67 with FKG of 10.9...index 68 with FKG of 9.7...index 69 with FKG of 9.9...index 70 with FKG of 9.8...index 71 with FKG of 9.9...index 72 with FKG of 10.9...index 73 with FKG of 9.7...index 74 with FKG of 9.5...index 75 with FKG of 9.8...index 76 with FKG of 9.9...index 77 with FKG of 10.9...index 78 with FKG of 9.7...index 79 with FKG of 9.5...index 80 with FKG of 9.8...index 81 with FKG of 9.9...index 82 with FKG of 10.9...index 83 with FKG of 9.7...index 84 with FKG of 9.7...index 85 with FKG of 9.8...index 86 with FKG of 9.9...index 87 with FKG of 10.9...index 88 with FKG of 9.8...index 89 with FKG of 9.7...index 90 with FKG of 9.8...index 91 with FKG of 9.9...index 92 with FKG of 10.1...index 93 with FKG of 9.7...index 94 with FKG of 9.9...index 95 with FKG of 9.8...index 96 with FKG of 9.9...index 97 with FKG of 10.9...index 98 with FKG of 9.7...index 99 with FKG of 9.7...index 100 with FKG of 9.8...index 101 with FKG of 9.9...index 102 with FKG of 10.9...index 103 with FKG of 9.7...index 104 with FKG of 9.7...index 105 with FKG of 9.8...index 106 with FKG of 9.9...index 107 with FKG of 10.9...index 108 with FKG of 9.7...index 109 with FKG of 9.7...index 110 with FKG of 9.8...index 111 with FKG of 9.9...index 112 with FKG of 10.9...index 113 with FKG of 9.7...index 114 with FKG of 9.5...index 115 with FKG of 9.8...index 116 with FKG of 9.7...index 117 with FKG of 10.9...index 118 with FKG of 9.7...index 119 with FKG of 9.7...index 120 with FKG of 9.8...index 121 with FKG of 9.9...index 122 with FKG of 10.9...index 123 with FKG of 9.7...index 124 with FKG of 9.5...index 125 with FKG of 9.8...index 126 with FKG of 9.9...index 127 with FKG of 10.1...index 128 with FKG of 9.7...index 129 with FKG of 9.7...index 130 with FKG of 4.8...index 131 with FKG of 5.3...index 132 with FKG of 4.9...index 133 with FKG of 3.8...index 134 with FKG of 5.2...index 135 with FKG of 6.0...index 136 with FKG of 4.9...index 137 with FKG of 4.8...index 138 with FKG of 3.9...index 139 with FKG of 5.4...index 140 with FKG of 2.9...index 141 with FKG of 5.9...index 142 with FKG of 4.7...index 143 with FKG of 4.2...index 144 with FKG of 5.2...index 145 with FKG of 4.7...index 146 with FKG of 5.0...index 147 with FKG of 5.5...index 148 with FKG of 3.4...index 149 with FKG of 5.4...index 150 with FKG of 5.9...index 151 with FKG of 5.5...index 152 with FKG of 4.9...index 153 with FKG of 3.6...index 154 with FKG of 5.4...index 155 with FKG of 5.3...index 156 with FKG of 5.4...index 157 with FKG of 5.8...index 158 with FKG of 4.3...index 159 with FKG of 5.2...index 160 with FKG of 5.6...index 161 with FKG of 6.6...index 162 with FKG of 6.0...index 163 with FKG of 3.5...index 164 with FKG of 5.2...index 165 with FKG of 5.8...index 166 with FKG of 4.6...index 167 with FKG of 5.2...index 168 with FKG of 3.5...index 169 with FKG of 4.8...index 170 with FKG of 5.4...index 171 with FKG of 5.1...index 172 with FKG of 6.0...index 173 with FKG of 4.2...index 174 with FKG of 4.7...index 175 with FKG of 4.3...index 176 with FKG of 4.8...index 177 with FKG of 5.1...index 178 with FKG of 3.9...index 179 with FKG of 5.4...index 180 with FKG of 6.4...index 181 with FKG of 5.3...index 182 with FKG of 5.2...index 183 with FKG of 3.7...index 184 with FKG of 5.9...index 185 with FKG of 5.8...index 186 with FKG of 5.8...index 187 with FKG of 5.4...index 188 with FKG of 3.9...index 189 with FKG of 5.1...index 190 with FKG of 4.0...index 191 with FKG of 5.3...index 192 with FKG of 4.1...index 193 with FKG of 4.5...index 194 with FKG of 5.2...index 195 with FKG of 6.1...index 196 with FKG of 6.0...index 197 with FKG of 5.2...index 198 with FKG of 4.9...index 199 with FKG of 5.2...index 200 with FKG of 5.4...index 201 with FKG of 4.2...index 202 with FKG of 4.0...index 203 with FKG of 3.6...index 204 with FKG of 6.0...index 205 with FKG of 6.0...index 206 with FKG of 5.0...index 207 with FKG of 5.2...index 208 with FKG of 4.2...index 209 with FKG of 4.9...index 210 with FKG of 5.7...index 211 with FKG of 5.6...index 212 with FKG of 5.4...index 213 with FKG of 5.1...index 214 with FKG of 5.9...index 215 with FKG of 6.0...index 216 with FKG of 5.6...index 217 with FKG of 5.4...index 218 with FKG of 5.0...index 219 with FKG of 4.9...index 220 with FKG of 4.1...index 221 with FKG of 5.9...index 222 with FKG of 5.8...index 223 with FKG of 3.9...index 224 with FKG of 4.9...index 225 with FKG of 4.0...index 226 with FKG of 6.1...index 227 with FKG of 4.0...index 228 with FKG of 4.1...index 229 with FKG of 5.3...index 230 with FKG of 5.5...index 231 with FKG of 4.9...index 232 with FKG of 4.9...index 233 with FKG of 4.3...index 234 with FKG of 5.1...index 235 with FKG of 3.4...index 236 with FKG of 4.3...index 237 with FKG of 5.7...index 238 with FKG of 5.3...index 239 with FKG of 4.5...index 240 with FKG of 4.3...index 241 with FKG of 5.7...index 242 with FKG of 5.3...index 243 with FKG of 5.2...index 244 with FKG of 4.3...index 245 with FKG of 4.7...index 246 with FKG of 5.4...index 247 with FKG of 5.8...index 248 with FKG of 3.7...index 249 with FKG of 5.3...index 250 with FKG of 3.5...index 251 with FKG of 5.2...index 252 with FKG of 4.5...index 253 with FKG of 4.1...index 254 with FKG of 4.5..."
     ]
    }
   ],
   "source": [
    "import textstat\n",
    "for index, row in df.iterrows():\n",
    "  \n",
    "\n",
    "\n",
    "  df.loc[index, 'flesch_kincaid_grade'] = textstat.flesch_kincaid_grade(row[\"text\"])\n",
    "  df.loc[index, 'flesch_reading_ease'] = textstat.flesch_reading_ease(row[\"text\"])\n",
    "  df.loc[index, 'smog_index'] = textstat.smog_index(row[\"text\"])\n",
    "  df.loc[index, 'coleman_liau_index'] = textstat.coleman_liau_index(row[\"text\"])\n",
    "  df.loc[index, 'automated_readability_index'] = textstat.automated_readability_index(row[\"text\"])\n",
    "  df.loc[index, 'dale_chall_readability_score'] = textstat.dale_chall_readability_score(row[\"text\"])\n",
    "  df.loc[index, 'difficult_words'] = textstat.difficult_words(row[\"text\"])\n",
    "  df.loc[index, 'linsear_write_formula'] = textstat.linsear_write_formula(row[\"text\"])\n",
    "  df.loc[index, 'gunning_fog'] = textstat.gunning_fog(row[\"text\"])\n",
    "  df.loc[index, 'text_standard'] = textstat.text_standard(row[\"text\"])\n",
    "  df.loc[index, 'fernandez_huerta'] = textstat.fernandez_huerta(row[\"text\"])\n",
    "  df.loc[index, 'szigriszt_pazos'] = textstat.szigriszt_pazos(row[\"text\"])\n",
    "  df.loc[index, 'gutierrez_polini'] = textstat.gutierrez_polini(row[\"text\"])\n",
    "  df.loc[index, 'crawford'] = textstat.crawford(row[\"text\"])\n",
    "  df.loc[index, 'gulpease_index'] = textstat.gulpease_index(row[\"text\"])\n",
    "  df.loc[index, 'osman'] = textstat.osman(row[\"text\"])\n",
    "  \n",
    "  # get difference from basecase (unimproved)\n",
    "  avs_id = row[\"avs_id\"]\n",
    "  basecase_row = df.query(\"model == 'unmodified' and avs_id == @avs_id\")\n",
    "  fkg = float(textstat.flesch_kincaid_grade(row[\"text\"]))\n",
    "  print(f\"index {index} with FKG of {fkg}\", end=\"...\")\n",
    "\n",
    "  \n",
    "  df.loc[index, 'diff_flesch_kincaid_grade'] = float(textstat.flesch_kincaid_grade(row[\"text\"])) - float(basecase_row['flesch_kincaid_grade'].iloc[0])\n",
    "  df.loc[index, 'diff_flesch_reading_ease'] = float(textstat.flesch_reading_ease(row[\"text\"])) - float(basecase_row['flesch_reading_ease'].iloc[0]) \n",
    "  df.loc[index, 'diff_smog_index'] = float(textstat.smog_index(row[\"text\"])) - float(basecase_row['smog_index'].iloc[0]) \n",
    "  df.loc[index, 'diff_coleman_liau_index'] = float(textstat.coleman_liau_index(row[\"text\"])) - float(basecase_row['coleman_liau_index'].iloc[0]) \n",
    "  df.loc[index, 'diff_automated_readability_index'] = float(textstat.automated_readability_index(row[\"text\"])) - float(basecase_row['automated_readability_index'].iloc[0]) \n",
    "  df.loc[index, 'diff_dale_chall_readability_score'] = float(textstat.dale_chall_readability_score(row[\"text\"])) - float(basecase_row['dale_chall_readability_score'].iloc[0]) \n",
    "  df.loc[index, 'diff_difficult_words'] = float(textstat.difficult_words(row[\"text\"])) - float(basecase_row['difficult_words'].iloc[0]) \n",
    "  df.loc[index, 'diff_linsear_write_formula'] = float(textstat.linsear_write_formula(row[\"text\"])) - float(basecase_row['linsear_write_formula'].iloc[0]) \n",
    "  df.loc[index, 'diff_gunning_fog'] = float(textstat.gunning_fog(row[\"text\"])) - float(basecase_row['gunning_fog'].iloc[0]) \n",
    "  df.loc[index, 'diff_text_standard'] = \"Cannot compute\"\n",
    "  df.loc[index, 'diff_fernandez_huerta'] = float(textstat.fernandez_huerta(row[\"text\"])) - float(basecase_row['fernandez_huerta'].iloc[0]) \n",
    "  df.loc[index, 'diff_szigriszt_pazos'] = float(textstat.szigriszt_pazos(row[\"text\"])) - float(basecase_row['szigriszt_pazos'].iloc[0]) \n",
    "  df.loc[index, 'diff_gutierrez_polini'] = float(textstat.gutierrez_polini(row[\"text\"])) - float(basecase_row['gutierrez_polini'].iloc[0]) \n",
    "  df.loc[index, 'diff_crawford'] = float(textstat.crawford(row[\"text\"])) - float(basecase_row['crawford'].iloc[0]) \n",
    "  df.loc[index, 'diff_gulpease_index'] = float(textstat.gulpease_index(row[\"text\"])) - float(basecase_row['gulpease_index'].iloc[0]) \n",
    "  df.loc[index, 'diff_osman'] = float(textstat.osman(row[\"text\"])) - float(basecase_row['osman'].iloc[0]) \n",
    "  \n",
    "  \n",
    "\n"
   ],
   "metadata": {
    "collapsed": false,
    "ExecuteTime": {
     "end_time": "2024-01-24T22:10:57.758226Z",
     "start_time": "2024-01-24T22:10:56.489555Z"
    }
   },
   "id": "bada1b04417fe51b"
  },
  {
   "cell_type": "code",
   "execution_count": 34,
   "outputs": [],
   "source": [
    "df.to_excel(\"output/output.xlsx\")"
   ],
   "metadata": {
    "collapsed": false,
    "ExecuteTime": {
     "end_time": "2024-01-24T22:10:59.025724Z",
     "start_time": "2024-01-24T22:10:58.926788Z"
    }
   },
   "id": "cd507bf0e177abb6"
  },
  {
   "cell_type": "code",
   "execution_count": null,
   "outputs": [],
   "source": [],
   "metadata": {
    "collapsed": false
   },
   "id": "59135fe2722d0155"
  }
 ],
 "metadata": {
  "kernelspec": {
   "display_name": "Python 3",
   "language": "python",
   "name": "python3"
  },
  "language_info": {
   "codemirror_mode": {
    "name": "ipython",
    "version": 2
   },
   "file_extension": ".py",
   "mimetype": "text/x-python",
   "name": "python",
   "nbconvert_exporter": "python",
   "pygments_lexer": "ipython2",
   "version": "2.7.6"
  }
 },
 "nbformat": 4,
 "nbformat_minor": 5
}
