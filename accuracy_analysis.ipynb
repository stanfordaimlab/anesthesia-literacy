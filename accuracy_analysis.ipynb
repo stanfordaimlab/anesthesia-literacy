{
 "cells": [
  {
   "cell_type": "code",
   "execution_count": 1,
   "id": "initial_id",
   "metadata": {
    "collapsed": true,
    "ExecuteTime": {
     "end_time": "2024-01-30T20:13:13.837616Z",
     "start_time": "2024-01-30T20:13:13.791135Z"
    }
   },
   "outputs": [],
   "source": [
    "import pandas as pd\n",
    "import os \n",
    "from pathlib import Path\n",
    "import plotly.express as px"
   ]
  },
  {
   "cell_type": "code",
   "execution_count": 2,
   "outputs": [
    {
     "data": {
      "text/plain": "   Unnamed: 0  avs_id       model  seed timestamp  \\\n0           0       0  unmodified     0       NaN   \n1           1       1  unmodified     0       NaN   \n2           2       2  unmodified     0       NaN   \n3           3       3  unmodified     0       NaN   \n4           4       4  unmodified     0       NaN   \n\n                                                text  flesch_kincaid_grade  \\\n0  \\nDepartment: ANESTHESIA PREOPERATIVE PROGRAM\\...                  10.8   \n1  Department: ANESTHESIA PREOPERATIVE PROGRAM\\nD...                  10.2   \n2  \\nDepartment: ANESTHESIA PREOPERATIVE PROGRAM\\...                  10.5   \n3  Department: ANESTHESIA PREOPERATIVE PROGRAM\\nD...                   9.9   \n4  Department: ANESTHESIA PREOPERATIVE PROGRAM\\nD...                  10.7   \n\n   flesch_reading_ease  smog_index  coleman_liau_index  ...  \\\n0                51.89        13.3               14.10  ...   \n1                53.61        13.1               13.92  ...   \n2                52.80        13.0               13.98  ...   \n3                54.22        12.7               11.89  ...   \n4                52.09        13.5               14.16  ...   \n\n   diff_difficult_words  diff_linsear_write_formula  diff_gunning_fog  \\\n0                     0                         0.0               0.0   \n1                     0                         0.0               0.0   \n2                     0                         0.0               0.0   \n3                     0                         0.0               0.0   \n4                     0                         0.0               0.0   \n\n   diff_text_standard  diff_fernandez_huerta diff_szigriszt_pazos  \\\n0      Cannot compute                    0.0                  0.0   \n1      Cannot compute                    0.0                  0.0   \n2      Cannot compute                    0.0                  0.0   \n3      Cannot compute                    0.0                  0.0   \n4      Cannot compute                    0.0                  0.0   \n\n   diff_gutierrez_polini  diff_crawford  diff_gulpease_index  diff_osman  \n0                    0.0            0.0                  0.0         0.0  \n1                    0.0            0.0                  0.0         0.0  \n2                    0.0            0.0                  0.0         0.0  \n3                    0.0            0.0                  0.0         0.0  \n4                    0.0            0.0                  0.0         0.0  \n\n[5 rows x 38 columns]",
      "text/html": "<div>\n<style scoped>\n    .dataframe tbody tr th:only-of-type {\n        vertical-align: middle;\n    }\n\n    .dataframe tbody tr th {\n        vertical-align: top;\n    }\n\n    .dataframe thead th {\n        text-align: right;\n    }\n</style>\n<table border=\"1\" class=\"dataframe\">\n  <thead>\n    <tr style=\"text-align: right;\">\n      <th></th>\n      <th>Unnamed: 0</th>\n      <th>avs_id</th>\n      <th>model</th>\n      <th>seed</th>\n      <th>timestamp</th>\n      <th>text</th>\n      <th>flesch_kincaid_grade</th>\n      <th>flesch_reading_ease</th>\n      <th>smog_index</th>\n      <th>coleman_liau_index</th>\n      <th>...</th>\n      <th>diff_difficult_words</th>\n      <th>diff_linsear_write_formula</th>\n      <th>diff_gunning_fog</th>\n      <th>diff_text_standard</th>\n      <th>diff_fernandez_huerta</th>\n      <th>diff_szigriszt_pazos</th>\n      <th>diff_gutierrez_polini</th>\n      <th>diff_crawford</th>\n      <th>diff_gulpease_index</th>\n      <th>diff_osman</th>\n    </tr>\n  </thead>\n  <tbody>\n    <tr>\n      <th>0</th>\n      <td>0</td>\n      <td>0</td>\n      <td>unmodified</td>\n      <td>0</td>\n      <td>NaN</td>\n      <td>\\nDepartment: ANESTHESIA PREOPERATIVE PROGRAM\\...</td>\n      <td>10.8</td>\n      <td>51.89</td>\n      <td>13.3</td>\n      <td>14.10</td>\n      <td>...</td>\n      <td>0</td>\n      <td>0.0</td>\n      <td>0.0</td>\n      <td>Cannot compute</td>\n      <td>0.0</td>\n      <td>0.0</td>\n      <td>0.0</td>\n      <td>0.0</td>\n      <td>0.0</td>\n      <td>0.0</td>\n    </tr>\n    <tr>\n      <th>1</th>\n      <td>1</td>\n      <td>1</td>\n      <td>unmodified</td>\n      <td>0</td>\n      <td>NaN</td>\n      <td>Department: ANESTHESIA PREOPERATIVE PROGRAM\\nD...</td>\n      <td>10.2</td>\n      <td>53.61</td>\n      <td>13.1</td>\n      <td>13.92</td>\n      <td>...</td>\n      <td>0</td>\n      <td>0.0</td>\n      <td>0.0</td>\n      <td>Cannot compute</td>\n      <td>0.0</td>\n      <td>0.0</td>\n      <td>0.0</td>\n      <td>0.0</td>\n      <td>0.0</td>\n      <td>0.0</td>\n    </tr>\n    <tr>\n      <th>2</th>\n      <td>2</td>\n      <td>2</td>\n      <td>unmodified</td>\n      <td>0</td>\n      <td>NaN</td>\n      <td>\\nDepartment: ANESTHESIA PREOPERATIVE PROGRAM\\...</td>\n      <td>10.5</td>\n      <td>52.80</td>\n      <td>13.0</td>\n      <td>13.98</td>\n      <td>...</td>\n      <td>0</td>\n      <td>0.0</td>\n      <td>0.0</td>\n      <td>Cannot compute</td>\n      <td>0.0</td>\n      <td>0.0</td>\n      <td>0.0</td>\n      <td>0.0</td>\n      <td>0.0</td>\n      <td>0.0</td>\n    </tr>\n    <tr>\n      <th>3</th>\n      <td>3</td>\n      <td>3</td>\n      <td>unmodified</td>\n      <td>0</td>\n      <td>NaN</td>\n      <td>Department: ANESTHESIA PREOPERATIVE PROGRAM\\nD...</td>\n      <td>9.9</td>\n      <td>54.22</td>\n      <td>12.7</td>\n      <td>11.89</td>\n      <td>...</td>\n      <td>0</td>\n      <td>0.0</td>\n      <td>0.0</td>\n      <td>Cannot compute</td>\n      <td>0.0</td>\n      <td>0.0</td>\n      <td>0.0</td>\n      <td>0.0</td>\n      <td>0.0</td>\n      <td>0.0</td>\n    </tr>\n    <tr>\n      <th>4</th>\n      <td>4</td>\n      <td>4</td>\n      <td>unmodified</td>\n      <td>0</td>\n      <td>NaN</td>\n      <td>Department: ANESTHESIA PREOPERATIVE PROGRAM\\nD...</td>\n      <td>10.7</td>\n      <td>52.09</td>\n      <td>13.5</td>\n      <td>14.16</td>\n      <td>...</td>\n      <td>0</td>\n      <td>0.0</td>\n      <td>0.0</td>\n      <td>Cannot compute</td>\n      <td>0.0</td>\n      <td>0.0</td>\n      <td>0.0</td>\n      <td>0.0</td>\n      <td>0.0</td>\n      <td>0.0</td>\n    </tr>\n  </tbody>\n</table>\n<p>5 rows × 38 columns</p>\n</div>"
     },
     "execution_count": 2,
     "metadata": {},
     "output_type": "execute_result"
    }
   ],
   "source": [
    "df = pd.read_excel(\"output/output.xlsx\")\n",
    "df.head()"
   ],
   "metadata": {
    "collapsed": false,
    "ExecuteTime": {
     "end_time": "2024-01-30T20:13:25.396536Z",
     "start_time": "2024-01-30T20:13:25.242811Z"
    }
   },
   "id": "86520b45d11d0699"
  },
  {
   "cell_type": "code",
   "execution_count": null,
   "outputs": [],
   "source": [],
   "metadata": {
    "collapsed": false
   },
   "id": "fe09489b481feaf0"
  },
  {
   "cell_type": "markdown",
   "source": [
    "accuracy analysis protocol\n",
    "\n",
    " | Domain | \tIs specific example item present?         | Complete (1) | \tPartial (0.5) | \tAbsent (0) | Inaccurate (1/0)_ | \n",
    " |----|--------------------------------------------|--------------|----------------|-------------|-------------------| \n",
    "|Logistics| \tProcedure date  |              |                |             |                   |\t\t\t\t\t\n",
    "| Eating and drinking\t| Description includes examples of clear liquids |              |                |             |                   |\t\n",
    "| Transportation\t| Request to have a driver |              |                |             |                   |\t\n",
    "|Personal items |\tDisallow contact lenses\t\t |              |                |             |                   |\t\n",
    "|Medication management |\tInstructions for NSAIDs (disallowed except in endo) |              |                |             |                   |\t\t\n",
    "\t\t\t\t\t\t"
   ],
   "metadata": {
    "collapsed": false
   },
   "id": "b8a96c62381bf640"
  },
  {
   "cell_type": "code",
   "execution_count": 4,
   "outputs": [
    {
     "data": {
      "text/plain": "   Unnamed: 0  avs_id       model  seed timestamp  \\\n0           0       0  unmodified     0       NaN   \n1           1       1  unmodified     0       NaN   \n2           2       2  unmodified     0       NaN   \n3           3       3  unmodified     0       NaN   \n4           4       4  unmodified     0       NaN   \n\n                                                text  flesch_kincaid_grade  \\\n0  \\nDepartment: ANESTHESIA PREOPERATIVE PROGRAM\\...                  10.8   \n1  Department: ANESTHESIA PREOPERATIVE PROGRAM\\nD...                  10.2   \n2  \\nDepartment: ANESTHESIA PREOPERATIVE PROGRAM\\...                  10.5   \n3  Department: ANESTHESIA PREOPERATIVE PROGRAM\\nD...                   9.9   \n4  Department: ANESTHESIA PREOPERATIVE PROGRAM\\nD...                  10.7   \n\n   flesch_reading_ease  smog_index  coleman_liau_index  ...  \\\n0                51.89        13.3               14.10  ...   \n1                53.61        13.1               13.92  ...   \n2                52.80        13.0               13.98  ...   \n3                54.22        12.7               11.89  ...   \n4                52.09        13.5               14.16  ...   \n\n   diff_difficult_words  diff_linsear_write_formula  diff_gunning_fog  \\\n0                     0                         0.0               0.0   \n1                     0                         0.0               0.0   \n2                     0                         0.0               0.0   \n3                     0                         0.0               0.0   \n4                     0                         0.0               0.0   \n\n   diff_text_standard  diff_fernandez_huerta diff_szigriszt_pazos  \\\n0      Cannot compute                    0.0                  0.0   \n1      Cannot compute                    0.0                  0.0   \n2      Cannot compute                    0.0                  0.0   \n3      Cannot compute                    0.0                  0.0   \n4      Cannot compute                    0.0                  0.0   \n\n   diff_gutierrez_polini  diff_crawford  diff_gulpease_index  diff_osman  \n0                    0.0            0.0                  0.0         0.0  \n1                    0.0            0.0                  0.0         0.0  \n2                    0.0            0.0                  0.0         0.0  \n3                    0.0            0.0                  0.0         0.0  \n4                    0.0            0.0                  0.0         0.0  \n\n[5 rows x 38 columns]",
      "text/html": "<div>\n<style scoped>\n    .dataframe tbody tr th:only-of-type {\n        vertical-align: middle;\n    }\n\n    .dataframe tbody tr th {\n        vertical-align: top;\n    }\n\n    .dataframe thead th {\n        text-align: right;\n    }\n</style>\n<table border=\"1\" class=\"dataframe\">\n  <thead>\n    <tr style=\"text-align: right;\">\n      <th></th>\n      <th>Unnamed: 0</th>\n      <th>avs_id</th>\n      <th>model</th>\n      <th>seed</th>\n      <th>timestamp</th>\n      <th>text</th>\n      <th>flesch_kincaid_grade</th>\n      <th>flesch_reading_ease</th>\n      <th>smog_index</th>\n      <th>coleman_liau_index</th>\n      <th>...</th>\n      <th>diff_difficult_words</th>\n      <th>diff_linsear_write_formula</th>\n      <th>diff_gunning_fog</th>\n      <th>diff_text_standard</th>\n      <th>diff_fernandez_huerta</th>\n      <th>diff_szigriszt_pazos</th>\n      <th>diff_gutierrez_polini</th>\n      <th>diff_crawford</th>\n      <th>diff_gulpease_index</th>\n      <th>diff_osman</th>\n    </tr>\n  </thead>\n  <tbody>\n    <tr>\n      <th>0</th>\n      <td>0</td>\n      <td>0</td>\n      <td>unmodified</td>\n      <td>0</td>\n      <td>NaN</td>\n      <td>\\nDepartment: ANESTHESIA PREOPERATIVE PROGRAM\\...</td>\n      <td>10.8</td>\n      <td>51.89</td>\n      <td>13.3</td>\n      <td>14.10</td>\n      <td>...</td>\n      <td>0</td>\n      <td>0.0</td>\n      <td>0.0</td>\n      <td>Cannot compute</td>\n      <td>0.0</td>\n      <td>0.0</td>\n      <td>0.0</td>\n      <td>0.0</td>\n      <td>0.0</td>\n      <td>0.0</td>\n    </tr>\n    <tr>\n      <th>1</th>\n      <td>1</td>\n      <td>1</td>\n      <td>unmodified</td>\n      <td>0</td>\n      <td>NaN</td>\n      <td>Department: ANESTHESIA PREOPERATIVE PROGRAM\\nD...</td>\n      <td>10.2</td>\n      <td>53.61</td>\n      <td>13.1</td>\n      <td>13.92</td>\n      <td>...</td>\n      <td>0</td>\n      <td>0.0</td>\n      <td>0.0</td>\n      <td>Cannot compute</td>\n      <td>0.0</td>\n      <td>0.0</td>\n      <td>0.0</td>\n      <td>0.0</td>\n      <td>0.0</td>\n      <td>0.0</td>\n    </tr>\n    <tr>\n      <th>2</th>\n      <td>2</td>\n      <td>2</td>\n      <td>unmodified</td>\n      <td>0</td>\n      <td>NaN</td>\n      <td>\\nDepartment: ANESTHESIA PREOPERATIVE PROGRAM\\...</td>\n      <td>10.5</td>\n      <td>52.80</td>\n      <td>13.0</td>\n      <td>13.98</td>\n      <td>...</td>\n      <td>0</td>\n      <td>0.0</td>\n      <td>0.0</td>\n      <td>Cannot compute</td>\n      <td>0.0</td>\n      <td>0.0</td>\n      <td>0.0</td>\n      <td>0.0</td>\n      <td>0.0</td>\n      <td>0.0</td>\n    </tr>\n    <tr>\n      <th>3</th>\n      <td>3</td>\n      <td>3</td>\n      <td>unmodified</td>\n      <td>0</td>\n      <td>NaN</td>\n      <td>Department: ANESTHESIA PREOPERATIVE PROGRAM\\nD...</td>\n      <td>9.9</td>\n      <td>54.22</td>\n      <td>12.7</td>\n      <td>11.89</td>\n      <td>...</td>\n      <td>0</td>\n      <td>0.0</td>\n      <td>0.0</td>\n      <td>Cannot compute</td>\n      <td>0.0</td>\n      <td>0.0</td>\n      <td>0.0</td>\n      <td>0.0</td>\n      <td>0.0</td>\n      <td>0.0</td>\n    </tr>\n    <tr>\n      <th>4</th>\n      <td>4</td>\n      <td>4</td>\n      <td>unmodified</td>\n      <td>0</td>\n      <td>NaN</td>\n      <td>Department: ANESTHESIA PREOPERATIVE PROGRAM\\nD...</td>\n      <td>10.7</td>\n      <td>52.09</td>\n      <td>13.5</td>\n      <td>14.16</td>\n      <td>...</td>\n      <td>0</td>\n      <td>0.0</td>\n      <td>0.0</td>\n      <td>Cannot compute</td>\n      <td>0.0</td>\n      <td>0.0</td>\n      <td>0.0</td>\n      <td>0.0</td>\n      <td>0.0</td>\n      <td>0.0</td>\n    </tr>\n  </tbody>\n</table>\n<p>5 rows × 38 columns</p>\n</div>"
     },
     "execution_count": 4,
     "metadata": {},
     "output_type": "execute_result"
    }
   ],
   "source": [
    "unmodified_df = df.query(\"model == 'unmodified'\")\n",
    "unmodified_df"
   ],
   "metadata": {
    "collapsed": false,
    "ExecuteTime": {
     "end_time": "2024-01-30T20:20:11.507836Z",
     "start_time": "2024-01-30T20:20:11.451338Z"
    }
   },
   "id": "4812f799f171b0f9"
  },
  {
   "cell_type": "code",
   "execution_count": 27,
   "outputs": [
    {
     "name": "stdout",
     "output_type": "stream",
     "text": [
      "More than one sentence found: It can be multiple sentences (like apple).  This script will find specific words like apple, banana, or cherry.\n"
     ]
    }
   ],
   "source": [
    "import re\n",
    "\n",
    "def find_sentences_with_words(text, words):\n",
    "    # Splitting the text into sentences\n",
    "    sentences = re.split(r'(?<=[.!?]) +|\\n', text)\n",
    "\n",
    "    # Preparing the list of words to search for\n",
    "    words_to_find = '|'.join(map(re.escape, words))\n",
    "\n",
    "    # Finding sentences that contain any of the words\n",
    "    matching_sentences = [sentence for sentence in sentences if re.search(words_to_find, sentence, re.IGNORECASE)]\n",
    "    \n",
    "    if len(matching_sentences) == 1:\n",
    "        return matching_sentences[0]\n",
    "    if len(matching_sentences) >1:\n",
    "        return_value = \"More than one sentence found: \" + \"  \".join(matching_sentences)\n",
    "        return return_value\n",
    "    \n",
    "    # print(\"No sentences found\")\n",
    "    return_value = \"No sentences found\"\n",
    "    return return_value\n",
    "\n",
    "# Example Usage\n",
    "text = \"Your large text goes here. It can be multiple sentences (like apple). This script will find specific words like apple, banana, or cherry.\"\n",
    "words = [\"apple\", \"banana\", \"cherry\"]\n",
    "\n",
    "found_sentences = find_sentences_with_words(text, words)\n",
    "print(found_sentences)"
   ],
   "metadata": {
    "collapsed": false,
    "ExecuteTime": {
     "end_time": "2024-01-30T21:05:27.747871Z",
     "start_time": "2024-01-30T21:05:27.680649Z"
    }
   },
   "id": "50ecd2a73c8bd0f3"
  },
  {
   "cell_type": "code",
   "execution_count": 32,
   "outputs": [],
   "source": [
    "df[\"logistics_accuracy\"] = 0\n",
    "df[\"logistics_completion\"] = 0\n",
    "df[\"logistics_sentence\"] = \"\"\n",
    "\n",
    "df[\"eating_accuracy\"] = 0\n",
    "df[\"eating_completion\"] = 0\n",
    "df[\"eating_sentence\"] = \"\"\n",
    "\n",
    "df[\"transportation_accuracy\"] = 0\n",
    "df[\"transportation_completion\"] = 0\n",
    "df[\"transportation_sentence\"] = \"\"\n",
    "\n",
    "df[\"personal_items_accuracy\"] = 0\n",
    "df[\"personal_items_completion\"] = 0\n",
    "df[\"personal_items_sentence\"] = \"\"\n",
    "\n",
    "df[\"meds_accuracy\"] = 0\n",
    "df[\"meds_completion\"] = 0\n",
    "df[\"meds_sentence\"] = \"\"\n",
    "\n",
    "for index, row in df.iterrows():\n",
    "    \n",
    "    timestamp = row['timestamp']\n",
    "    avs_text = row['text']\n",
    "\n",
    "    # Logistics\n",
    "    # Procedure date\n",
    "\n",
    "    sentence = find_sentences_with_words(avs_text, [\"1/14/24\", \"01/14/24\", \"14\", \"January\", \"2024\"])\n",
    "    if sentence == \"No sentences found\":\n",
    "        print(\"Logistics:\" + str(index) + \" \" + timestamp + \" \" + sentence)\n",
    "    df.loc[index, 'logistics_sentence'] = sentence\n",
    "    \n",
    "    # Eating and drinking\n",
    "    # Description includes examples of clear liquids\n",
    "    sentence = find_sentences_with_words(avs_text, [ \"tea\", \"water\", \"juice\", \"drinks\"])\n",
    "    if sentence == \"No sentences found\":\n",
    "        print(\"Eating:\" + str(index) + \" \" + timestamp + \" \" + sentence)\n",
    "    df.loc[index, 'eating_sentence'] = sentence \n",
    "    \n",
    "    # Transportation\n",
    "    # Request to have a driver\n",
    "    sentence = find_sentences_with_words(avs_text, [ \"drive\" ])\n",
    "    if sentence == \"No sentences found\":\n",
    "        print(\"Transport:\" + str(index) + \" \" + timestamp + \" \" + sentence)\n",
    "    df.loc[index, 'transportation_sentence'] = sentence \n",
    "    \n",
    "    # Personal items\n",
    "    # Disallow contact lenses\n",
    "    sentence = find_sentences_with_words(avs_text, [ \"contacts\", \"lenses\", \"lens\" ])\n",
    "    if sentence == \"No sentences found\":\n",
    "        print(\"Personal items:\" + str(index) + \" \" + timestamp + \" \" + sentence)\n",
    "    df.loc[index, 'personal_items_sentence'] = sentence \n",
    "       \n",
    "    \n",
    "    # Medication management\n",
    "    # Instructions for NSAIDs (disallowed except in endo)\n",
    "    sentence = find_sentences_with_words(avs_text, [ \"NSAIDS\", \"ibuprofen\", \"aspirin\" ])\n",
    "    if sentence == \"No sentences found\":\n",
    "        print(\"Meds:\" + str(index) + \" \" + timestamp + \" \" + sentence)\n",
    "    df.loc[index, 'meds_sentence'] = sentence \n",
    "    "
   ],
   "metadata": {
    "collapsed": false,
    "ExecuteTime": {
     "end_time": "2024-01-30T21:50:34.714135Z",
     "start_time": "2024-01-30T21:50:34.471959Z"
    }
   },
   "id": "c86d625453787d27"
  },
  {
   "cell_type": "code",
   "execution_count": 33,
   "outputs": [],
   "source": [
    "df.to_excel(\"output/output_with_accuracy_analysis.xlsx\")\n",
    "df.to_csv(\"output/output_with_accuracy_analysis.csv\")\n"
   ],
   "metadata": {
    "collapsed": false,
    "ExecuteTime": {
     "end_time": "2024-01-30T21:50:35.074971Z",
     "start_time": "2024-01-30T21:50:34.891616Z"
    }
   },
   "id": "5fedcfe36341003f"
  },
  {
   "cell_type": "code",
   "execution_count": null,
   "outputs": [],
   "source": [],
   "metadata": {
    "collapsed": false
   },
   "id": "40001fc4155fd836"
  }
 ],
 "metadata": {
  "kernelspec": {
   "display_name": "Python 3",
   "language": "python",
   "name": "python3"
  },
  "language_info": {
   "codemirror_mode": {
    "name": "ipython",
    "version": 2
   },
   "file_extension": ".py",
   "mimetype": "text/x-python",
   "name": "python",
   "nbconvert_exporter": "python",
   "pygments_lexer": "ipython2",
   "version": "2.7.6"
  }
 },
 "nbformat": 4,
 "nbformat_minor": 5
}
